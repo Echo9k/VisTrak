{
 "cells": [
  {
   "cell_type": "code",
   "execution_count": 1,
   "metadata": {},
   "outputs": [],
   "source": [
    "import configparser\n",
    "import requests\n",
    "from bs4 import BeautifulSoup\n",
    "import os\n",
    "import json\n",
    "import zipfile\n",
    "import logging"
   ]
  },
  {
   "cell_type": "code",
   "execution_count": 2,
   "metadata": {},
   "outputs": [],
   "source": [
    "is_notebook = True\n",
    "notebook_prefix = \"\"\n",
    "if is_notebook: notebook_prefix = \".\""
   ]
  },
  {
   "cell_type": "code",
   "execution_count": 3,
   "metadata": {},
   "outputs": [],
   "source": [
    "# Read the config file for the ETL process\n",
    "config = configparser.ConfigParser()\n",
    "config.read(notebook_prefix + \"./config/config.conf\")\n",
    "\n",
    "# Configure logging\n",
    "log_dir = notebook_prefix + config['path']['log'] + \"extract.log\"\n",
    "logging.basicConfig(filename=log_dir, level=logging.INFO, format='%(asctime)s - %(levelname)s - %(message)s')\n",
    "\n",
    "source_dir = config['path']['source']\n",
    "raw_dir = config['path']['raw']\n",
    "backup_dir = config['path']['backup']\n",
    "logging.info(f\"Source directory: {source_dir}\")\n",
    "logging.info(f\"Raw directory: {raw_dir}\")\n",
    "\n",
    "# Read the config file for the mock server\n",
    "with open(notebook_prefix + config['path']['config.sv']) as f:\n",
    "    config_server = json.load(f)\n",
    "\n",
    "logging.info(\"Downloading files from the mock server...\")\n",
    "mock_server_url = f\"http://{config_server['host.sv']}:{config_server['port.sv']}/{config_server['path']}/\"\n",
    "\n",
    "response = requests.get(mock_server_url)\n",
    "logging.info(f\"Response status code: {response.status_code}\")"
   ]
  },
  {
   "cell_type": "code",
   "execution_count": 4,
   "metadata": {},
   "outputs": [],
   "source": [
    "if response.status_code == 200:\n",
    "    soup = BeautifulSoup(response.text, \"html.parser\")\n",
    "    file_links = soup.find_all(\"a\", {\"data-file\": True})\n",
    "    logging.info(f\"Found {len(file_links)} files\")\n",
    "\n",
    "    for link in file_links:\n",
    "        file_name = link[\"data-file\"]\n",
    "        logging.info(f\"Found file: {file_name}\")\n",
    "        if file_name.startswith(\"report_\") and file_name.endswith(\".txt\"):\n",
    "            file_url = mock_server_url + file_name\n",
    "            file_path = os.path.join(source_dir, file_name)\n",
    "            logging.info(f\"Downloading: {file_name}\")\n",
    "\n",
    "            if not os.path.exists(raw_dir):\n",
    "                try:\n",
    "                    os.makedirs(raw_dir)\n",
    "                except Exception as e:\n",
    "                    logging.error(f\"Error creating directory {raw_dir}: {e}\")\n",
    "\n",
    "            if not os.path.exists(backup_dir):\n",
    "                try:\n",
    "                    os.makedirs(backup_dir)\n",
    "                except Exception as e:\n",
    "                    logging.error(f\"Error creating directory {backup_dir}: {e}\")\n",
    "\n",
    "            file_response = requests.get(file_url)\n",
    "            if file_response.status_code == 200 and file_response.content:\n",
    "                with open(file_path, \"wb\") as file:\n",
    "                    file.write(file_response.content)\n",
    "                logging.info(f\"Downloaded: {file_name}\")\n",
    "\n",
    "                zip_file_path = os.path.join(backup_dir, f\"{file_name}.zip\")\n",
    "                with zipfile.ZipFile(zip_file_path, 'w', zipfile.ZIP_DEFLATED) as zipf:\n",
    "                    zipf.write(file_path, arcname=file_name)\n",
    "                logging.info(f\"Backed up: {file_name} in ZIP format at {zip_file_path}\")\n",
    "\n",
    "                delete_response = requests.delete(file_url)\n",
    "                if delete_response.status_code == 204:\n",
    "                    logging.info(f\"Deleted: {file_name} from the server\")\n",
    "                else:\n",
    "                    logging.warning(f\"Failed to delete: {file_name} from the server with status code: {delete_response.status_code}\")\n",
    "                    logging.error(f\"Error message: {delete_response.text}\")\n",
    "            else:\n",
    "                logging.error(f\"Failed to download: {file_name}\")\n",
    "else:\n",
    "    logging.error(f\"Failed to fetch the mock server page with status code: {response.status_code}\")"
   ]
  }
 ],
 "metadata": {
  "kernelspec": {
   "display_name": "base",
   "language": "python",
   "name": "python3"
  },
  "language_info": {
   "codemirror_mode": {
    "name": "ipython",
    "version": 3
   },
   "file_extension": ".py",
   "mimetype": "text/x-python",
   "name": "python",
   "nbconvert_exporter": "python",
   "pygments_lexer": "ipython3",
   "version": "3.11.7"
  }
 },
 "nbformat": 4,
 "nbformat_minor": 2
}
