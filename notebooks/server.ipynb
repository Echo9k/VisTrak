{
 "cells": [
  {
   "cell_type": "markdown",
   "metadata": {},
   "source": [
    "set up"
   ]
  },
  {
   "cell_type": "code",
   "execution_count": 1,
   "metadata": {},
   "outputs": [],
   "source": [
    "import os\n",
    "import sys\n",
    "import json\n",
    "import psycopg2\n",
    "import configparser"
   ]
  },
  {
   "cell_type": "code",
   "execution_count": 2,
   "metadata": {},
   "outputs": [],
   "source": [
    "# Load config file\n",
    "config = configparser.ConfigParser()\n",
    "config.read('../config/config.conf')\n",
    "\n",
    "# Load configuration file (json format) for source database \n",
    "with open(config['path']['config.sv']) as json_file:\n",
    "    source = json.load(json_file)\n",
    "\n",
    "DATA_DIR = config['path']['source']\n",
    "HOST = config['database']['host.sv']\n",
    "PORT = config['database']['port.sv']\n",
    "\n",
    "\n",
    "path = config['path']\n",
    "temp_dir = f\"..{path['temp']}\"\n",
    "\n",
    "sys.path.append(config['path']['root'])\n",
    "\n",
    "from utils import (insert as insert, loggs, parse as parse, process, validate as validate)"
   ]
  },
  {
   "cell_type": "markdown",
   "metadata": {},
   "source": [
    "transform"
   ]
  },
  {
   "cell_type": "code",
   "execution_count": 7,
   "metadata": {},
   "outputs": [
    {
     "name": "stdout",
     "output_type": "stream",
     "text": [
      "report_7.txt\n",
      "Validation failed: Layout validation failed for row ['lucyrojo63@yahoo.com', '', '', '', '08/02/2013 18:30', '09/02/2013 09:55', '2', '0', '09/02/2013 09:55', '2', '0', '\"3', '3\"', '201.141.137.184', 'Chrome Generic', 'WinXP']\n",
      "Validation failed: Layout validation failed for row ['lynbar777@yahoo.com', '', '', 'SI', '08/02/2013 18:30', '08/02/2013 12:20', '1', '0', '08/02/2013 12:22', '2', '0', '\"3', '3\"', '187.245.156.195', 'Firefox 3.6', 'MacOSX']\n",
      "Validation failed: Layout validation failed for row ['lupitadecena@live.com.mx', '', '', '', '08/02/2013 18:30', '08/02/2013 12:19', '2', '0', '08/02/2013 12:20', '2', '0', '\"0', '3\"', '189.254.205.150', 'IE 9.0', 'Win7']\n",
      "Validation failed: Layout validation failed for row ['chinchuma@yahoo.com', '', '', '', '08/02/2013 18:30', '20/02/2013 17:48', '2', '0', '20/02/2013 17:48', '2', '0', '\"0', '3\"', '190.51.32.134', '', 'unknown']\n",
      "Validation failed: Layout validation failed for row ['samanta.llaguno@algo.com', '', '', '', '08/02/2013 18:30', '08/02/2013 11:40', '7', '0', '08/02/2013 11:42', '2', '0', '\"0', '3\"', '201.103.172.190', 'Chrome Generic', 'Win7']\n",
      "report_8.txt\n",
      "Validation failed: Layout validation failed for row ['jesuscandia4@yahoo.com', '', '', '', '08/02/2013 18:30', '09/02/2013 13:42', '2', '1', '-', '0', '0', '-', '\"187.186.10.199', '189.193.76.37\"', 'IE 10.0', 'Win8']\n",
      "Validation failed: Layout validation failed for row ['mause168@yahoo.com', '', '', '', '08/02/2013 18:30', '08/02/2013 11:42', '2', '1', '-', '0', '0', '-', '\"189.239.123.106', '189.239.142.185\"', 'Chrome Generic', 'WinXP']\n",
      "report_9.txt\n",
      "Validation failed: Layout validation failed for row ['claudia_montes@yahoo.com', '', '', '', '14/02/2013 17:35', '15/02/2013 04:00', '3', '0', '15/02/2013 04:01', '2', '0', '\"0', '6\"', '194.224.183.205', 'Chrome Generic', 'Win7']\n"
     ]
    }
   ],
   "source": [
    "from importlib import reload\n",
    "reload(validate)\n",
    "reload(loggs)\n",
    "reload(parse)\n",
    "reload(process)\n",
    "reload(insert)\n",
    "\n",
    "\n",
    "# Connect to Postgres database\n",
    "cnx = psycopg2.connect(\n",
    "    database=source['database'],\n",
    "    user=source['user'],\n",
    "    password=source['password'],\n",
    "    host=source.get('host', 'localhost'),  # 'localhost' as default\n",
    "    port=source.get('port', '5432')  # '5432' is postgres' default\n",
    ")\n",
    "\n",
    "\n",
    "# Usage\n",
    "temp_dir = f\"..{path['temp']}\"\n",
    "for filename in os.listdir(temp_dir):\n",
    "    print(filename)\n",
    "    if filename.endswith('.txt'):\n",
    "        full_path = os.path.join(temp_dir, filename)\n",
    "        process.process_file(full_path, cnx)\n",
    "        # os.remove(full_path)\n",
    "\n",
    "\n",
    "# Close Postgres connection\n",
    "cnx.close()"
   ]
  },
  {
   "cell_type": "code",
   "execution_count": null,
   "metadata": {},
   "outputs": [],
   "source": []
  }
 ],
 "metadata": {
  "kernelspec": {
   "display_name": "base",
   "language": "python",
   "name": "python3"
  },
  "language_info": {
   "codemirror_mode": {
    "name": "ipython",
    "version": 3
   },
   "file_extension": ".py",
   "mimetype": "text/x-python",
   "name": "python",
   "nbconvert_exporter": "python",
   "pygments_lexer": "ipython3",
   "version": "3.11.5"
  }
 },
 "nbformat": 4,
 "nbformat_minor": 2
}
