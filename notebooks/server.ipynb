{
 "cells": [
  {
   "cell_type": "code",
   "execution_count": 3,
   "metadata": {},
   "outputs": [
    {
     "ename": "ModuleNotFoundError",
     "evalue": "No module named 'utils'",
     "output_type": "error",
     "traceback": [
      "\u001b[0;31m---------------------------------------------------------------------------\u001b[0m",
      "\u001b[0;31mModuleNotFoundError\u001b[0m                       Traceback (most recent call last)",
      "\u001b[1;32m/workspaces/anaconda-postgres/notebooks/server.ipynb Cell 1\u001b[0m line \u001b[0;36m6\n\u001b[1;32m      <a href='vscode-notebook-cell://dev-container%2B7b22766f6c756d654e616d65223a22616e61636f6e64612d706f737467726573222c22666f6c646572223a22616e61636f6e64612d706f737467726573227d/workspaces/anaconda-postgres/notebooks/server.ipynb#W0sdnNjb2RlLXJlbW90ZQ%3D%3D?line=2'>3</a>\u001b[0m \u001b[39mimport\u001b[39;00m \u001b[39mpsycopg2\u001b[39;00m\n\u001b[1;32m      <a href='vscode-notebook-cell://dev-container%2B7b22766f6c756d654e616d65223a22616e61636f6e64612d706f737467726573222c22666f6c646572223a22616e61636f6e64612d706f737467726573227d/workspaces/anaconda-postgres/notebooks/server.ipynb#W0sdnNjb2RlLXJlbW90ZQ%3D%3D?line=3'>4</a>\u001b[0m \u001b[39mimport\u001b[39;00m \u001b[39mconfigparser\u001b[39;00m\n\u001b[0;32m----> <a href='vscode-notebook-cell://dev-container%2B7b22766f6c756d654e616d65223a22616e61636f6e64612d706f737467726573222c22666f6c646572223a22616e61636f6e64612d706f737467726573227d/workspaces/anaconda-postgres/notebooks/server.ipynb#W0sdnNjb2RlLXJlbW90ZQ%3D%3D?line=5'>6</a>\u001b[0m \u001b[39mfrom\u001b[39;00m \u001b[39mutils\u001b[39;00m\u001b[39m.\u001b[39;00m\u001b[39mvalidation\u001b[39;00m \u001b[39mimport\u001b[39;00m validate_layout, validate_email, validate_date\n\u001b[1;32m      <a href='vscode-notebook-cell://dev-container%2B7b22766f6c756d654e616d65223a22616e61636f6e64612d706f737467726573222c22666f6c646572223a22616e61636f6e64612d706f737467726573227d/workspaces/anaconda-postgres/notebooks/server.ipynb#W0sdnNjb2RlLXJlbW90ZQ%3D%3D?line=6'>7</a>\u001b[0m \u001b[39mfrom\u001b[39;00m \u001b[39mutils\u001b[39;00m\u001b[39m.\u001b[39;00m\u001b[39mparsing\u001b[39;00m \u001b[39mimport\u001b[39;00m parse_visitor, parse_statistics\n\u001b[1;32m      <a href='vscode-notebook-cell://dev-container%2B7b22766f6c756d654e616d65223a22616e61636f6e64612d706f737467726573222c22666f6c646572223a22616e61636f6e64612d706f737467726573227d/workspaces/anaconda-postgres/notebooks/server.ipynb#W0sdnNjb2RlLXJlbW90ZQ%3D%3D?line=7'>8</a>\u001b[0m \u001b[39mfrom\u001b[39;00m \u001b[39mutils\u001b[39;00m\u001b[39m.\u001b[39;00m\u001b[39mlogging\u001b[39;00m \u001b[39mimport\u001b[39;00m log_error\n",
      "\u001b[0;31mModuleNotFoundError\u001b[0m: No module named 'utils'"
     ]
    }
   ],
   "source": [
    "import os\n",
    "import datetime\n",
    "import psycopg2\n",
    "import configparser\n",
    "\n",
    "from utils.validation import validate_layout, validate_email, validate_date\n",
    "from utils.parsing import parse_visitor, parse_statistics\n",
    "from utils.logging import log_error\n",
    "\n",
    "\n",
    "# Load config file\n",
    "config = configparser.ConfigParser()\n",
    "config.read('/workspaces/anaconda-postgres/config.conf')\n",
    "source = config['source']\n",
    "\n",
    "# Connect to Postgres database\n",
    "cnx = psycopg2.connect(\n",
    "    database=source['database'],\n",
    "    user=source['user'],\n",
    "    password=source['password'],\n",
    "    host=source.get('host', 'localhost'),  # Use 'localhost' as default if not set\n",
    "    port=source.get('port', '5432')  # Use '5432' as default if not set\n",
    ")\n",
    "cursor = cnx.cursor()"
   ]
  },
  {
   "cell_type": "code",
   "execution_count": 4,
   "metadata": {},
   "outputs": [
    {
     "ename": "NameError",
     "evalue": "name 'cursor' is not defined",
     "output_type": "error",
     "traceback": [
      "\u001b[0;31m---------------------------------------------------------------------------\u001b[0m",
      "\u001b[0;31mNameError\u001b[0m                                 Traceback (most recent call last)",
      "\u001b[1;32m/workspaces/anaconda-postgres/notebooks/server.ipynb Cell 2\u001b[0m line \u001b[0;36m2\n\u001b[1;32m     <a href='vscode-notebook-cell://dev-container%2B7b22766f6c756d654e616d65223a22616e61636f6e64612d706f737467726573222c22666f6c646572223a22616e61636f6e64612d706f737467726573227d/workspaces/anaconda-postgres/notebooks/server.ipynb#W2sdnNjb2RlLXJlbW90ZQ%3D%3D?line=24'>25</a>\u001b[0m         os\u001b[39m.\u001b[39mremove(os\u001b[39m.\u001b[39mpath\u001b[39m.\u001b[39mjoin(\u001b[39m'\u001b[39m\u001b[39m/workspaces/anaconda-postgres/data/temp\u001b[39m\u001b[39m'\u001b[39m, filename))\n\u001b[1;32m     <a href='vscode-notebook-cell://dev-container%2B7b22766f6c756d654e616d65223a22616e61636f6e64612d706f737467726573222c22666f6c646572223a22616e61636f6e64612d706f737467726573227d/workspaces/anaconda-postgres/notebooks/server.ipynb#W2sdnNjb2RlLXJlbW90ZQ%3D%3D?line=26'>27</a>\u001b[0m \u001b[39m# Close Postgres connection\u001b[39;00m\n\u001b[0;32m---> <a href='vscode-notebook-cell://dev-container%2B7b22766f6c756d654e616d65223a22616e61636f6e64612d706f737467726573222c22666f6c646572223a22616e61636f6e64612d706f737467726573227d/workspaces/anaconda-postgres/notebooks/server.ipynb#W2sdnNjb2RlLXJlbW90ZQ%3D%3D?line=27'>28</a>\u001b[0m cursor\u001b[39m.\u001b[39mclose()\n\u001b[1;32m     <a href='vscode-notebook-cell://dev-container%2B7b22766f6c756d654e616d65223a22616e61636f6e64612d706f737467726573222c22666f6c646572223a22616e61636f6e64612d706f737467726573227d/workspaces/anaconda-postgres/notebooks/server.ipynb#W2sdnNjb2RlLXJlbW90ZQ%3D%3D?line=28'>29</a>\u001b[0m cnx\u001b[39m.\u001b[39mclose()\n",
      "\u001b[0;31mNameError\u001b[0m: name 'cursor' is not defined"
     ]
    }
   ],
   "source": [
    "\n",
    "# Process each file in temp directory\n",
    "for filename in os.listdir('/workspaces/anaconda-postgres/data/temp'):\n",
    "    if filename.endswith('.csv'):\n",
    "        with open(os.path.join('/workspaces/anaconda-postgres/data/temp', filename), 'r') as f:\n",
    "            for line in f:\n",
    "                row = line.strip().split(',')\n",
    "                if validate_layout(row):\n",
    "                    if validate_email(row[0]) and validate_date(row[1]):\n",
    "                        visitor = parse_visitor({'email': row[0], 'date': row[1]})\n",
    "                        statistics = parse_statistics({'email': row[0], 'jyv': row[2], 'Badmail': row[3], 'Baja': row[4], 'Fecha envio': row[5], 'Fecha open': row[6], 'Opens': row[7], 'Opens virales': row[8], 'Fecha click': row[9], 'Clicks': row[10], 'Clicks virales': row[11], 'Links': row[12], 'IPs': row[13], 'Navegadores': row[14], 'Plataformas': row[15]})\n",
    "                        try:\n",
    "                            # Insert visitor and statistics into Postgres tables\n",
    "                            visitor_insert = \"INSERT INTO visitor (email, fechaPrimeraVisita, fechaUltimaVisita, visitasTotales, visitasAnioActual, visitasMesActual) VALUES (%s, %s, %s, %s, %s, %s)\"\n",
    "                            cursor.execute(visitor_insert, (visitor['email'], visitor['fechaPrimeraVisita'], visitor['fechaUltimaVisita'], visitor['visitasTotales'], visitor['visitasAnioActual'], visitor['visitasMesActual']))\n",
    "                            statistics_insert = \"INSERT INTO statistics (email, jyv, Badmail, Baja, Fecha_envio, Fecha_open, Opens, Opens_virales, Fecha_click, Clicks, Clicks_virales, Links, IPs, Navegadores, Plataformas) VALUES (%s, %s, %s, %s, %s, %s, %s, %s, %s, %s, %s, %s, %s, %s, %s)\"\n",
    "                            cursor.execute(statistics_insert, (statistics['email'], statistics['jyv'], statistics['Badmail'], statistics['Baja'], statistics['Fecha envio'], statistics['Fecha open'], statistics['Opens'], statistics['Opens virales'], statistics['Fecha click'], statistics['Clicks'], statistics['Clicks virales'], statistics['Links'], statistics['IPs'], statistics['Navegadores'], statistics['Plataformas']))\n",
    "                            cnx.commit()\n",
    "                        except Exception as e:\n",
    "                            # Log error if insert fails\n",
    "                            log_error(row, str(e))\n",
    "                    else:\n",
    "                        # Log error if email or date is invalid\n",
    "                        log_error(row, 'Invalid email or date')\n",
    "        # Delete file once processed\n",
    "        os.remove(os.path.join('/workspaces/anaconda-postgres/data/temp', filename))\n",
    "\n",
    "# Close Postgres connection\n",
    "cursor.close()\n",
    "cnx.close()"
   ]
  }
 ],
 "metadata": {
  "kernelspec": {
   "display_name": "base",
   "language": "python",
   "name": "python3"
  },
  "language_info": {
   "codemirror_mode": {
    "name": "ipython",
    "version": 3
   },
   "file_extension": ".py",
   "mimetype": "text/x-python",
   "name": "python",
   "nbconvert_exporter": "python",
   "pygments_lexer": "ipython3",
   "version": "3.11.5"
  }
 },
 "nbformat": 4,
 "nbformat_minor": 2
}
