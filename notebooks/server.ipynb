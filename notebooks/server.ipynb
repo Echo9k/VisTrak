{
 "cells": [
  {
   "cell_type": "markdown",
   "metadata": {},
   "source": [
    "set up"
   ]
  },
  {
   "cell_type": "code",
   "execution_count": 4,
   "metadata": {},
   "outputs": [],
   "source": [
    "import os\n",
    "import sys\n",
    "import json\n",
    "import datetime\n",
    "import psycopg2\n",
    "import configparser\n",
    "import traceback\n",
    "\n",
    "\n",
    "# Load config file\n",
    "config = configparser.ConfigParser()\n",
    "config.read('../config/config.conf')\n",
    "configs = config['source']\n",
    "path = config['path']\n",
    "temp_dir = f\"..{path['temp']}\"\n",
    "\n",
    "sys.path.append(config['path']['root'])\n",
    "\n",
    "from utils import (logging, process,\n",
    "                   validation as validate,\n",
    "                   parsing as parse,\n",
    "                   insertion as insert)\n",
    "\n",
    "from importlib import reload\n",
    "reload(validate)\n",
    "reload(logging)\n",
    "reload(parse)\n",
    "\n",
    "# Load configuration file (json format) for source database \n",
    "with open(configs['config_file']) as json_file:\n",
    "    source = json.load(json_file)"
   ]
  },
  {
   "cell_type": "markdown",
   "metadata": {},
   "source": [
    "Test connection"
   ]
  },
  {
   "cell_type": "markdown",
   "metadata": {},
   "source": [
    "transform"
   ]
  },
  {
   "cell_type": "code",
   "execution_count": 3,
   "metadata": {},
   "outputs": [
    {
     "name": "stdout",
     "output_type": "stream",
     "text": [
      "Exception occurred: 'dynamic_col'.Traceback: Traceback (most recent call last):\n",
      "  File \"/tmp/ipykernel_66689/3781525638.py\", line 33, in process_line\n",
      "    insert_data(row, cnx)  # If all validations pass, insert the data\n",
      "    ^^^^^^^^^^^^^^^^^^^^^\n",
      "  File \"/tmp/ipykernel_66689/3781525638.py\", line 47, in insert_data\n",
      "    insert_statistics(statistics, cursor)\n",
      "  File \"/tmp/ipykernel_66689/3781525638.py\", line 74, in insert_statistics\n",
      "    statistics['dynamic_col'],\n",
      "    ~~~~~~~~~~^^^^^^^^^^^^^^^\n",
      "KeyError: 'dynamic_col'\n",
      "Error value: None\n"
     ]
    },
    {
     "ename": "TypeError",
     "evalue": "'NoneType' object is not iterable",
     "output_type": "error",
     "traceback": [
      "\u001B[0;31m---------------------------------------------------------------------------\u001B[0m",
      "\u001B[0;31mKeyError\u001B[0m                                  Traceback (most recent call last)",
      "\u001B[1;32m/workspaces/anaconda-postgres/notebooks/server.ipynb Cell 6\u001B[0m line \u001B[0;36m3\n\u001B[1;32m     <a href='vscode-notebook-cell://dev-container%2B7b22766f6c756d654e616d65223a22616e61636f6e64612d706f737467726573222c22666f6c646572223a22616e61636f6e64612d706f737467726573227d/workspaces/anaconda-postgres/notebooks/server.ipynb#X13sdnNjb2RlLXJlbW90ZQ%3D%3D?line=30'>31</a>\u001B[0m             \u001B[39mraise\u001B[39;00m \u001B[39mValueError\u001B[39;00m(\u001B[39m'\u001B[39m\u001B[39mInvalid date format\u001B[39m\u001B[39m'\u001B[39m)\n\u001B[0;32m---> <a href='vscode-notebook-cell://dev-container%2B7b22766f6c756d654e616d65223a22616e61636f6e64612d706f737467726573222c22666f6c646572223a22616e61636f6e64612d706f737467726573227d/workspaces/anaconda-postgres/notebooks/server.ipynb#X13sdnNjb2RlLXJlbW90ZQ%3D%3D?line=32'>33</a>\u001B[0m     insert_data(row, cnx)  \u001B[39m# If all validations pass, insert the data\u001B[39;00m\n\u001B[1;32m     <a href='vscode-notebook-cell://dev-container%2B7b22766f6c756d654e616d65223a22616e61636f6e64612d706f737467726573222c22666f6c646572223a22616e61636f6e64612d706f737467726573227d/workspaces/anaconda-postgres/notebooks/server.ipynb#X13sdnNjb2RlLXJlbW90ZQ%3D%3D?line=33'>34</a>\u001B[0m \u001B[39mexcept\u001B[39;00m \u001B[39mException\u001B[39;00m \u001B[39mas\u001B[39;00m e:\n",
      "\u001B[1;32m/workspaces/anaconda-postgres/notebooks/server.ipynb Cell 6\u001B[0m line \u001B[0;36m4\n\u001B[1;32m     <a href='vscode-notebook-cell://dev-container%2B7b22766f6c756d654e616d65223a22616e61636f6e64612d706f737467726573222c22666f6c646572223a22616e61636f6e64612d706f737467726573227d/workspaces/anaconda-postgres/notebooks/server.ipynb#X13sdnNjb2RlLXJlbW90ZQ%3D%3D?line=45'>46</a>\u001B[0m insert_visitor(visitor, cursor)\n\u001B[0;32m---> <a href='vscode-notebook-cell://dev-container%2B7b22766f6c756d654e616d65223a22616e61636f6e64612d706f737467726573222c22666f6c646572223a22616e61636f6e64612d706f737467726573227d/workspaces/anaconda-postgres/notebooks/server.ipynb#X13sdnNjb2RlLXJlbW90ZQ%3D%3D?line=46'>47</a>\u001B[0m insert_statistics(statistics, cursor)\n\u001B[1;32m     <a href='vscode-notebook-cell://dev-container%2B7b22766f6c756d654e616d65223a22616e61636f6e64612d706f737467726573222c22666f6c646572223a22616e61636f6e64612d706f737467726573227d/workspaces/anaconda-postgres/notebooks/server.ipynb#X13sdnNjb2RlLXJlbW90ZQ%3D%3D?line=47'>48</a>\u001B[0m cnx\u001B[39m.\u001B[39mcommit()\n",
      "\u001B[1;32m/workspaces/anaconda-postgres/notebooks/server.ipynb Cell 6\u001B[0m line \u001B[0;36m7\n\u001B[1;32m     <a href='vscode-notebook-cell://dev-container%2B7b22766f6c756d654e616d65223a22616e61636f6e64612d706f737467726573222c22666f6c646572223a22616e61636f6e64612d706f737467726573227d/workspaces/anaconda-postgres/notebooks/server.ipynb#X13sdnNjb2RlLXJlbW90ZQ%3D%3D?line=67'>68</a>\u001B[0m     statistics_insert \u001B[39m=\u001B[39m \u001B[39m\"\"\"\u001B[39m\n\u001B[1;32m     <a href='vscode-notebook-cell://dev-container%2B7b22766f6c756d654e616d65223a22616e61636f6e64612d706f737467726573222c22666f6c646572223a22616e61636f6e64612d706f737467726573227d/workspaces/anaconda-postgres/notebooks/server.ipynb#X13sdnNjb2RlLXJlbW90ZQ%3D%3D?line=68'>69</a>\u001B[0m \u001B[39m    INSERT INTO statistics (email, jyv, Badmail, Baja, Fecha_envio, Fecha_open, Opens, Opens_virales, Fecha_click, Clicks, Clicks_virales, Links, IPs, Navegadores, Plataformas)\u001B[39m\n\u001B[1;32m     <a href='vscode-notebook-cell://dev-container%2B7b22766f6c756d654e616d65223a22616e61636f6e64612d706f737467726573222c22666f6c646572223a22616e61636f6e64612d706f737467726573227d/workspaces/anaconda-postgres/notebooks/server.ipynb#X13sdnNjb2RlLXJlbW90ZQ%3D%3D?line=69'>70</a>\u001B[0m \u001B[39m    VALUES (\u001B[39m\u001B[39m%s\u001B[39;00m\u001B[39m, \u001B[39m\u001B[39m%s\u001B[39;00m\u001B[39m, \u001B[39m\u001B[39m%s\u001B[39;00m\u001B[39m, \u001B[39m\u001B[39m%s\u001B[39;00m\u001B[39m, \u001B[39m\u001B[39m%s\u001B[39;00m\u001B[39m, \u001B[39m\u001B[39m%s\u001B[39;00m\u001B[39m, \u001B[39m\u001B[39m%s\u001B[39;00m\u001B[39m, \u001B[39m\u001B[39m%s\u001B[39;00m\u001B[39m, \u001B[39m\u001B[39m%s\u001B[39;00m\u001B[39m, \u001B[39m\u001B[39m%s\u001B[39;00m\u001B[39m, \u001B[39m\u001B[39m%s\u001B[39;00m\u001B[39m, \u001B[39m\u001B[39m%s\u001B[39;00m\u001B[39m, \u001B[39m\u001B[39m%s\u001B[39;00m\u001B[39m, \u001B[39m\u001B[39m%s\u001B[39;00m\u001B[39m, \u001B[39m\u001B[39m%s\u001B[39;00m\u001B[39m)\u001B[39m\n\u001B[1;32m     <a href='vscode-notebook-cell://dev-container%2B7b22766f6c756d654e616d65223a22616e61636f6e64612d706f737467726573222c22666f6c646572223a22616e61636f6e64612d706f737467726573227d/workspaces/anaconda-postgres/notebooks/server.ipynb#X13sdnNjb2RlLXJlbW90ZQ%3D%3D?line=70'>71</a>\u001B[0m \u001B[39m    \u001B[39m\u001B[39m\"\"\"\u001B[39m\n\u001B[1;32m     <a href='vscode-notebook-cell://dev-container%2B7b22766f6c756d654e616d65223a22616e61636f6e64612d706f737467726573222c22666f6c646572223a22616e61636f6e64612d706f737467726573227d/workspaces/anaconda-postgres/notebooks/server.ipynb#X13sdnNjb2RlLXJlbW90ZQ%3D%3D?line=71'>72</a>\u001B[0m     cursor\u001B[39m.\u001B[39mexecute(statistics_insert, (\n\u001B[1;32m     <a href='vscode-notebook-cell://dev-container%2B7b22766f6c756d654e616d65223a22616e61636f6e64612d706f737467726573222c22666f6c646572223a22616e61636f6e64612d706f737467726573227d/workspaces/anaconda-postgres/notebooks/server.ipynb#X13sdnNjb2RlLXJlbW90ZQ%3D%3D?line=72'>73</a>\u001B[0m         statistics[\u001B[39m'\u001B[39m\u001B[39memail\u001B[39m\u001B[39m'\u001B[39m],\n\u001B[0;32m---> <a href='vscode-notebook-cell://dev-container%2B7b22766f6c756d654e616d65223a22616e61636f6e64612d706f737467726573222c22666f6c646572223a22616e61636f6e64612d706f737467726573227d/workspaces/anaconda-postgres/notebooks/server.ipynb#X13sdnNjb2RlLXJlbW90ZQ%3D%3D?line=73'>74</a>\u001B[0m         statistics[\u001B[39m'\u001B[39m\u001B[39mdynamic_col\u001B[39m\u001B[39m'\u001B[39m],\n\u001B[1;32m     <a href='vscode-notebook-cell://dev-container%2B7b22766f6c756d654e616d65223a22616e61636f6e64612d706f737467726573222c22666f6c646572223a22616e61636f6e64612d706f737467726573227d/workspaces/anaconda-postgres/notebooks/server.ipynb#X13sdnNjb2RlLXJlbW90ZQ%3D%3D?line=74'>75</a>\u001B[0m         statistics[\u001B[39m'\u001B[39m\u001B[39mBadmail\u001B[39m\u001B[39m'\u001B[39m],\n\u001B[1;32m     <a href='vscode-notebook-cell://dev-container%2B7b22766f6c756d654e616d65223a22616e61636f6e64612d706f737467726573222c22666f6c646572223a22616e61636f6e64612d706f737467726573227d/workspaces/anaconda-postgres/notebooks/server.ipynb#X13sdnNjb2RlLXJlbW90ZQ%3D%3D?line=75'>76</a>\u001B[0m         statistics[\u001B[39m'\u001B[39m\u001B[39mBaja\u001B[39m\u001B[39m'\u001B[39m],\n\u001B[1;32m     <a href='vscode-notebook-cell://dev-container%2B7b22766f6c756d654e616d65223a22616e61636f6e64612d706f737467726573222c22666f6c646572223a22616e61636f6e64612d706f737467726573227d/workspaces/anaconda-postgres/notebooks/server.ipynb#X13sdnNjb2RlLXJlbW90ZQ%3D%3D?line=76'>77</a>\u001B[0m         statistics[\u001B[39m'\u001B[39m\u001B[39mFecha envio\u001B[39m\u001B[39m'\u001B[39m],\n\u001B[1;32m     <a href='vscode-notebook-cell://dev-container%2B7b22766f6c756d654e616d65223a22616e61636f6e64612d706f737467726573222c22666f6c646572223a22616e61636f6e64612d706f737467726573227d/workspaces/anaconda-postgres/notebooks/server.ipynb#X13sdnNjb2RlLXJlbW90ZQ%3D%3D?line=77'>78</a>\u001B[0m         statistics[\u001B[39m'\u001B[39m\u001B[39mFecha open\u001B[39m\u001B[39m'\u001B[39m],\n\u001B[1;32m     <a href='vscode-notebook-cell://dev-container%2B7b22766f6c756d654e616d65223a22616e61636f6e64612d706f737467726573222c22666f6c646572223a22616e61636f6e64612d706f737467726573227d/workspaces/anaconda-postgres/notebooks/server.ipynb#X13sdnNjb2RlLXJlbW90ZQ%3D%3D?line=78'>79</a>\u001B[0m         statistics[\u001B[39m'\u001B[39m\u001B[39mOpens\u001B[39m\u001B[39m'\u001B[39m],\n\u001B[1;32m     <a href='vscode-notebook-cell://dev-container%2B7b22766f6c756d654e616d65223a22616e61636f6e64612d706f737467726573222c22666f6c646572223a22616e61636f6e64612d706f737467726573227d/workspaces/anaconda-postgres/notebooks/server.ipynb#X13sdnNjb2RlLXJlbW90ZQ%3D%3D?line=79'>80</a>\u001B[0m         statistics[\u001B[39m'\u001B[39m\u001B[39mOpens virales\u001B[39m\u001B[39m'\u001B[39m],\n\u001B[1;32m     <a href='vscode-notebook-cell://dev-container%2B7b22766f6c756d654e616d65223a22616e61636f6e64612d706f737467726573222c22666f6c646572223a22616e61636f6e64612d706f737467726573227d/workspaces/anaconda-postgres/notebooks/server.ipynb#X13sdnNjb2RlLXJlbW90ZQ%3D%3D?line=80'>81</a>\u001B[0m         statistics[\u001B[39m'\u001B[39m\u001B[39mFecha click\u001B[39m\u001B[39m'\u001B[39m],\n\u001B[1;32m     <a href='vscode-notebook-cell://dev-container%2B7b22766f6c756d654e616d65223a22616e61636f6e64612d706f737467726573222c22666f6c646572223a22616e61636f6e64612d706f737467726573227d/workspaces/anaconda-postgres/notebooks/server.ipynb#X13sdnNjb2RlLXJlbW90ZQ%3D%3D?line=81'>82</a>\u001B[0m         statistics[\u001B[39m'\u001B[39m\u001B[39mClicks\u001B[39m\u001B[39m'\u001B[39m],\n\u001B[1;32m     <a href='vscode-notebook-cell://dev-container%2B7b22766f6c756d654e616d65223a22616e61636f6e64612d706f737467726573222c22666f6c646572223a22616e61636f6e64612d706f737467726573227d/workspaces/anaconda-postgres/notebooks/server.ipynb#X13sdnNjb2RlLXJlbW90ZQ%3D%3D?line=82'>83</a>\u001B[0m         statistics[\u001B[39m'\u001B[39m\u001B[39mClicks virales\u001B[39m\u001B[39m'\u001B[39m],\n\u001B[1;32m     <a href='vscode-notebook-cell://dev-container%2B7b22766f6c756d654e616d65223a22616e61636f6e64612d706f737467726573222c22666f6c646572223a22616e61636f6e64612d706f737467726573227d/workspaces/anaconda-postgres/notebooks/server.ipynb#X13sdnNjb2RlLXJlbW90ZQ%3D%3D?line=83'>84</a>\u001B[0m         statistics[\u001B[39m'\u001B[39m\u001B[39mLinks\u001B[39m\u001B[39m'\u001B[39m],\n\u001B[1;32m     <a href='vscode-notebook-cell://dev-container%2B7b22766f6c756d654e616d65223a22616e61636f6e64612d706f737467726573222c22666f6c646572223a22616e61636f6e64612d706f737467726573227d/workspaces/anaconda-postgres/notebooks/server.ipynb#X13sdnNjb2RlLXJlbW90ZQ%3D%3D?line=84'>85</a>\u001B[0m         statistics[\u001B[39m'\u001B[39m\u001B[39mIPs\u001B[39m\u001B[39m'\u001B[39m],\n\u001B[1;32m     <a href='vscode-notebook-cell://dev-container%2B7b22766f6c756d654e616d65223a22616e61636f6e64612d706f737467726573222c22666f6c646572223a22616e61636f6e64612d706f737467726573227d/workspaces/anaconda-postgres/notebooks/server.ipynb#X13sdnNjb2RlLXJlbW90ZQ%3D%3D?line=85'>86</a>\u001B[0m         statistics[\u001B[39m'\u001B[39m\u001B[39mNavegadores\u001B[39m\u001B[39m'\u001B[39m],\n\u001B[1;32m     <a href='vscode-notebook-cell://dev-container%2B7b22766f6c756d654e616d65223a22616e61636f6e64612d706f737467726573222c22666f6c646572223a22616e61636f6e64612d706f737467726573227d/workspaces/anaconda-postgres/notebooks/server.ipynb#X13sdnNjb2RlLXJlbW90ZQ%3D%3D?line=86'>87</a>\u001B[0m         statistics[\u001B[39m'\u001B[39m\u001B[39mPlataformas\u001B[39m\u001B[39m'\u001B[39m]\n\u001B[1;32m     <a href='vscode-notebook-cell://dev-container%2B7b22766f6c756d654e616d65223a22616e61636f6e64612d706f737467726573222c22666f6c646572223a22616e61636f6e64612d706f737467726573227d/workspaces/anaconda-postgres/notebooks/server.ipynb#X13sdnNjb2RlLXJlbW90ZQ%3D%3D?line=87'>88</a>\u001B[0m     )\n\u001B[1;32m     <a href='vscode-notebook-cell://dev-container%2B7b22766f6c756d654e616d65223a22616e61636f6e64612d706f737467726573222c22666f6c646572223a22616e61636f6e64612d706f737467726573227d/workspaces/anaconda-postgres/notebooks/server.ipynb#X13sdnNjb2RlLXJlbW90ZQ%3D%3D?line=88'>89</a>\u001B[0m )\n",
      "\u001B[0;31mKeyError\u001B[0m: 'dynamic_col'",
      "\nDuring handling of the above exception, another exception occurred:\n",
      "\u001B[0;31mTypeError\u001B[0m                                 Traceback (most recent call last)",
      "\u001B[1;32m/workspaces/anaconda-postgres/notebooks/server.ipynb Cell 6\u001B[0m line \u001B[0;36m1\n\u001B[1;32m     <a href='vscode-notebook-cell://dev-container%2B7b22766f6c756d654e616d65223a22616e61636f6e64612d706f737467726573222c22666f6c646572223a22616e61636f6e64612d706f737467726573227d/workspaces/anaconda-postgres/notebooks/server.ipynb#X13sdnNjb2RlLXJlbW90ZQ%3D%3D?line=13'>14</a>\u001B[0m     \u001B[39mif\u001B[39;00m filename\u001B[39m.\u001B[39mendswith(\u001B[39m'\u001B[39m\u001B[39m.txt\u001B[39m\u001B[39m'\u001B[39m):\n\u001B[1;32m     <a href='vscode-notebook-cell://dev-container%2B7b22766f6c756d654e616d65223a22616e61636f6e64612d706f737467726573222c22666f6c646572223a22616e61636f6e64612d706f737467726573227d/workspaces/anaconda-postgres/notebooks/server.ipynb#X13sdnNjb2RlLXJlbW90ZQ%3D%3D?line=14'>15</a>\u001B[0m         full_path \u001B[39m=\u001B[39m os\u001B[39m.\u001B[39mpath\u001B[39m.\u001B[39mjoin(temp_dir, filename)\n\u001B[0;32m---> <a href='vscode-notebook-cell://dev-container%2B7b22766f6c756d654e616d65223a22616e61636f6e64612d706f737467726573222c22666f6c646572223a22616e61636f6e64612d706f737467726573227d/workspaces/anaconda-postgres/notebooks/server.ipynb#X13sdnNjb2RlLXJlbW90ZQ%3D%3D?line=15'>16</a>\u001B[0m         process_file(full_path, cnx)\n\u001B[1;32m     <a href='vscode-notebook-cell://dev-container%2B7b22766f6c756d654e616d65223a22616e61636f6e64612d706f737467726573222c22666f6c646572223a22616e61636f6e64612d706f737467726573227d/workspaces/anaconda-postgres/notebooks/server.ipynb#X13sdnNjb2RlLXJlbW90ZQ%3D%3D?line=16'>17</a>\u001B[0m         os\u001B[39m.\u001B[39mremove(full_path)\n\u001B[1;32m     <a href='vscode-notebook-cell://dev-container%2B7b22766f6c756d654e616d65223a22616e61636f6e64612d706f737467726573222c22666f6c646572223a22616e61636f6e64612d706f737467726573227d/workspaces/anaconda-postgres/notebooks/server.ipynb#X13sdnNjb2RlLXJlbW90ZQ%3D%3D?line=19'>20</a>\u001B[0m \u001B[39m# Close Postgres connection\u001B[39;00m\n",
      "\u001B[1;32m/workspaces/anaconda-postgres/notebooks/server.ipynb Cell 6\u001B[0m line \u001B[0;36m8\n\u001B[1;32m      <a href='vscode-notebook-cell://dev-container%2B7b22766f6c756d654e616d65223a22616e61636f6e64612d706f737467726573222c22666f6c646572223a22616e61636f6e64612d706f737467726573227d/workspaces/anaconda-postgres/notebooks/server.ipynb#X13sdnNjb2RlLXJlbW90ZQ%3D%3D?line=5'>6</a>\u001B[0m     header_skipped \u001B[39m=\u001B[39m \u001B[39mTrue\u001B[39;00m\n\u001B[1;32m      <a href='vscode-notebook-cell://dev-container%2B7b22766f6c756d654e616d65223a22616e61636f6e64612d706f737467726573222c22666f6c646572223a22616e61636f6e64612d706f737467726573227d/workspaces/anaconda-postgres/notebooks/server.ipynb#X13sdnNjb2RlLXJlbW90ZQ%3D%3D?line=6'>7</a>\u001B[0m     \u001B[39mcontinue\u001B[39;00m\n\u001B[0;32m----> <a href='vscode-notebook-cell://dev-container%2B7b22766f6c756d654e616d65223a22616e61636f6e64612d706f737467726573222c22666f6c646572223a22616e61636f6e64612d706f737467726573227d/workspaces/anaconda-postgres/notebooks/server.ipynb#X13sdnNjb2RlLXJlbW90ZQ%3D%3D?line=7'>8</a>\u001B[0m process_line(line, cnx)\n",
      "\u001B[1;32m/workspaces/anaconda-postgres/notebooks/server.ipynb Cell 6\u001B[0m line \u001B[0;36m3\n\u001B[1;32m     <a href='vscode-notebook-cell://dev-container%2B7b22766f6c756d654e616d65223a22616e61636f6e64612d706f737467726573222c22666f6c646572223a22616e61636f6e64612d706f737467726573227d/workspaces/anaconda-postgres/notebooks/server.ipynb#X13sdnNjb2RlLXJlbW90ZQ%3D%3D?line=34'>35</a>\u001B[0m err_val \u001B[39m=\u001B[39m err_value \u001B[39mor\u001B[39;00m row\n\u001B[1;32m     <a href='vscode-notebook-cell://dev-container%2B7b22766f6c756d654e616d65223a22616e61636f6e64612d706f737467726573222c22666f6c646572223a22616e61636f6e64612d706f737467726573227d/workspaces/anaconda-postgres/notebooks/server.ipynb#X13sdnNjb2RlLXJlbW90ZQ%3D%3D?line=35'>36</a>\u001B[0m \u001B[39mprint\u001B[39m(\u001B[39mf\u001B[39m\u001B[39m\"\u001B[39m\u001B[39mException occurred: \u001B[39m\u001B[39m{\u001B[39;00me\u001B[39m}\u001B[39;00m\u001B[39m.\u001B[39m\u001B[39m\"\u001B[39m\n\u001B[1;32m     <a href='vscode-notebook-cell://dev-container%2B7b22766f6c756d654e616d65223a22616e61636f6e64612d706f737467726573222c22666f6c646572223a22616e61636f6e64612d706f737467726573227d/workspaces/anaconda-postgres/notebooks/server.ipynb#X13sdnNjb2RlLXJlbW90ZQ%3D%3D?line=36'>37</a>\u001B[0m     \u001B[39mf\u001B[39m\u001B[39m\"\u001B[39m\u001B[39mTraceback: \u001B[39m\u001B[39m{\u001B[39;00mtraceback\u001B[39m.\u001B[39mformat_exc()\u001B[39m}\u001B[39;00m\u001B[39m\"\u001B[39m\n\u001B[1;32m     <a href='vscode-notebook-cell://dev-container%2B7b22766f6c756d654e616d65223a22616e61636f6e64612d706f737467726573222c22666f6c646572223a22616e61636f6e64612d706f737467726573227d/workspaces/anaconda-postgres/notebooks/server.ipynb#X13sdnNjb2RlLXJlbW90ZQ%3D%3D?line=37'>38</a>\u001B[0m     \u001B[39mf\u001B[39m\u001B[39m\"\u001B[39m\u001B[39mError value: \u001B[39m\u001B[39m{\u001B[39;00merr_value\u001B[39m}\u001B[39;00m\u001B[39m\"\u001B[39m)\n\u001B[0;32m---> <a href='vscode-notebook-cell://dev-container%2B7b22766f6c756d654e616d65223a22616e61636f6e64612d706f737467726573222c22666f6c646572223a22616e61636f6e64612d706f737467726573227d/workspaces/anaconda-postgres/notebooks/server.ipynb#X13sdnNjb2RlLXJlbW90ZQ%3D%3D?line=38'>39</a>\u001B[0m logging\u001B[39m.\u001B[39mcnx_error(filename, cnx, err_value, e, traceback\u001B[39m.\u001B[39mformat_exc())\n",
      "File \u001B[0;32m/workspaces/anaconda-postgres/utils/logging.py:17\u001B[0m, in \u001B[0;36mcnx_error\u001B[0;34m(filename, cnx, row, error, stack_trace)\u001B[0m\n\u001B[1;32m     10\u001B[0m error_insert \u001B[39m=\u001B[39m \u001B[39m\"\"\"\u001B[39m\n\u001B[1;32m     11\u001B[0m \u001B[39mINSERT INTO errors (filename, row_data, error_message, error_type, error_code, stack_trace, error_timestamp)\u001B[39m\n\u001B[1;32m     12\u001B[0m \u001B[39mVALUES (\u001B[39m\u001B[39m%s\u001B[39;00m\u001B[39m, \u001B[39m\u001B[39m%s\u001B[39;00m\u001B[39m, \u001B[39m\u001B[39m%s\u001B[39;00m\u001B[39m, \u001B[39m\u001B[39m%s\u001B[39;00m\u001B[39m, \u001B[39m\u001B[39m%s\u001B[39;00m\u001B[39m, \u001B[39m\u001B[39m%s\u001B[39;00m\u001B[39m, CURRENT_TIMESTAMP)\u001B[39m\n\u001B[1;32m     13\u001B[0m \u001B[39m\u001B[39m\u001B[39m\"\"\"\u001B[39m\n\u001B[1;32m     14\u001B[0m \u001B[39mtry\u001B[39;00m:\n\u001B[1;32m     15\u001B[0m     cursor\u001B[39m.\u001B[39mexecute(error_insert, (\n\u001B[1;32m     16\u001B[0m         filename,                  \u001B[39m# Pass the filename\u001B[39;00m\n\u001B[0;32m---> 17\u001B[0m         \u001B[39m'\u001B[39m\u001B[39m,\u001B[39m\u001B[39m'\u001B[39m\u001B[39m.\u001B[39mjoin(\u001B[39mmap\u001B[39m(\u001B[39mstr\u001B[39m, row)),   \u001B[39m# Join the row data into a string\u001B[39;00m\n\u001B[1;32m     18\u001B[0m         error_message,             \u001B[39m# Convert error to string\u001B[39;00m\n\u001B[1;32m     19\u001B[0m         error_type,                \u001B[39m# Type of error\u001B[39;00m\n\u001B[1;32m     20\u001B[0m         error_code,                \u001B[39m# Error code\u001B[39;00m\n\u001B[1;32m     21\u001B[0m         stack_trace                \u001B[39m# Stack trace information\u001B[39;00m\n\u001B[1;32m     22\u001B[0m     ))\n\u001B[1;32m     23\u001B[0m     cnx\u001B[39m.\u001B[39mcommit()\n\u001B[1;32m     24\u001B[0m \u001B[39mexcept\u001B[39;00m psycopg2\u001B[39m.\u001B[39mDatabaseError \u001B[39mas\u001B[39;00m e:\n\u001B[1;32m     25\u001B[0m     \u001B[39m# If logging fails, consider logging this to a file or print to the console\u001B[39;00m\n",
      "\u001B[0;31mTypeError\u001B[0m: 'NoneType' object is not iterable"
     ]
    }
   ],
   "source": [
    "# Connect to Postgres database\n",
    "cnx = psycopg2.connect(\n",
    "    database=source['database'],\n",
    "    user=source['user'],\n",
    "    password=source['password'],\n",
    "    host=source.get('host', 'localhost'),  # 'localhost' as default\n",
    "    port=source.get('port', '5432')  # '5432' is postgres' default\n",
    ")\n",
    "\n",
    "\n",
    "# Usage\n",
    "temp_dir = f\"..{path['temp']}\"\n",
    "for filename in os.listdir(temp_dir):\n",
    "    if filename.endswith('.txt'):\n",
    "        full_path = os.path.join(temp_dir, filename)\n",
    "        process.file(full_path, cnx)\n",
    "        os.remove(full_path)\n",
    "\n",
    "\n",
    "# Close Postgres connection\n",
    "cnx.close()"
   ]
  },
  {
   "cell_type": "code",
   "execution_count": null,
   "metadata": {},
   "outputs": [],
   "source": []
  }
 ],
 "metadata": {
  "kernelspec": {
   "display_name": "base",
   "language": "python",
   "name": "python3"
  },
  "language_info": {
   "codemirror_mode": {
    "name": "ipython",
    "version": 3
   },
   "file_extension": ".py",
   "mimetype": "text/x-python",
   "name": "python",
   "nbconvert_exporter": "python",
   "pygments_lexer": "ipython3",
   "version": "3.11.5"
  }
 },
 "nbformat": 4,
 "nbformat_minor": 2
}
