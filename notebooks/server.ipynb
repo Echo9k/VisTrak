{
 "cells": [
  {
   "cell_type": "markdown",
   "metadata": {},
   "source": [
    "set up"
   ]
  },
  {
   "cell_type": "code",
   "execution_count": 1,
   "metadata": {},
   "outputs": [],
   "source": [
    "import os\n",
    "import sys\n",
    "import json\n",
    "import datetime\n",
    "import psycopg2\n",
    "import configparser\n",
    "\n",
    "# Load config file\n",
    "config = configparser.ConfigParser()\n",
    "config.read('../config/config.conf')\n",
    "configs = config['source']\n",
    "path = config['path']\n",
    "\n",
    "sys.path.append(config['path']['root'])\n",
    "\n",
    "from utils import (validation as validate,\n",
    "                   parsing as parse,\n",
    "                   logging)\n",
    "\n",
    "\n",
    "# Load configuration file (json format) for source database \n",
    "with open(configs['config_file']) as json_file:\n",
    "    source = json.load(json_file)"
   ]
  },
  {
   "cell_type": "markdown",
   "metadata": {},
   "source": [
    "Test connection"
   ]
  },
  {
   "cell_type": "code",
   "execution_count": 2,
   "metadata": {},
   "outputs": [
    {
     "name": "stdout",
     "output_type": "stream",
     "text": [
      "You are connected to -  ('PostgreSQL 16.0 (Debian 16.0-1.pgdg120+1) on x86_64-pc-linux-gnu, compiled by gcc (Debian 12.2.0-14) 12.2.0, 64-bit',) \n",
      "\n",
      "PostgreSQL connection is closed\n"
     ]
    }
   ],
   "source": [
    "# Establish connection to the PostgreSQL database\n",
    "try:\n",
    "    cnx = psycopg2.connect(\n",
    "        database=source['database'],\n",
    "        user=source['user'],\n",
    "        password=source['password'],\n",
    "        host=source.get('db.host', 'localhost'),  # Use 'localhost' as default if 'db.host' is not set\n",
    "        port=source.get('db.port', '5432')  # Use '5432' as default if 'db.port' is not set\n",
    "    )\n",
    "    cursor = cnx.cursor()\n",
    "\n",
    "    # Test query to ensure connection is established\n",
    "    cursor.execute(\"SELECT version();\")\n",
    "    record = cursor.fetchone()\n",
    "    print(\"You are connected to - \", record, \"\\n\")\n",
    "\n",
    "except Exception as error:\n",
    "    print(\"Error while connecting to PostgreSQL\", error)\n",
    "finally:\n",
    "    # Close the cursor and connection\n",
    "    if (cnx):\n",
    "        cursor.close()\n",
    "        cnx.close()\n",
    "        print(\"PostgreSQL connection is closed\")"
   ]
  },
  {
   "cell_type": "markdown",
   "metadata": {},
   "source": [
    "transform"
   ]
  },
  {
   "cell_type": "code",
   "execution_count": 26,
   "metadata": {},
   "outputs": [],
   "source": [
    "import traceback\n",
    "from utils import validation as validate, parsing as parse, logging\n",
    "\n",
    "\n",
    "def process_file(filename, cnx):\n",
    "    with open(filename, 'r') as f:\n",
    "        for line in f:\n",
    "            process_line(line, cnx)\n",
    "\n",
    "\n",
    "\n",
    "def process_line(line, cnx):\n",
    "    row = line.strip().split(',')\n",
    "    try:\n",
    "        if validate.layout(row) and validate.email(row[0]) and all(validate.date(row[i]) for i in [5, 6, 9]):\n",
    "            insert_data(row, cnx)\n",
    "        else:\n",
    "            raise ValueError('Invalid email or date')\n",
    "    except Exception as e:\n",
    "        # Directly pass the list 'row' and the exception details to the logging function\n",
    "        logging.cnx_error(row, str(e), type(e).__name__, e.__class__.__name__, traceback.format_exc(), cnx)\n",
    "\n",
    "\n",
    "def insert_data(row, cnx):\n",
    "    visitor = parse.visitor(row)\n",
    "    statistics = parse.statistics(row)\n",
    "    with cnx.cursor() as cursor:\n",
    "        insert_visitor(visitor, cursor)\n",
    "        insert_statistics(statistics, cursor)\n",
    "        cnx.commit()\n",
    "\n",
    "def insert_visitor(visitor, cursor):\n",
    "    visitor_insert = \"\"\"\n",
    "    INSERT INTO visitor (email, fechaPrimeraVisita, fechaUltimaVisita, visitasTotales, visitasAnioActual, visitasMesActual)\n",
    "    VALUES (%s, %s, %s, %s, %s, %s)\n",
    "    \"\"\"\n",
    "    cursor.execute(visitor_insert, (\n",
    "        visitor['email'],\n",
    "        visitor['fechaPrimeraVisita'],\n",
    "        visitor['fechaUltimaVisita'],\n",
    "        visitor['visitasTotales'],\n",
    "        visitor['visitasAnioActual'],\n",
    "        visitor['visitasMesActual']\n",
    "    ))\n",
    "\n",
    "def insert_statistics(statistics, cursor):\n",
    "    statistics_insert = \"\"\"\n",
    "    INSERT INTO statistics (email, jyv, Badmail, Baja, Fecha_envio, Fecha_open, Opens, Opens_virales, Fecha_click, Clicks, Clicks_virales, Links, IPs, Navegadores, Plataformas)\n",
    "    VALUES (%s, %s, %s, %s, %s, %s, %s, %s, %s, %s, %s, %s, %s, %s, %s)\n",
    "    \"\"\"\n",
    "    cursor.execute(statistics_insert, (\n",
    "        statistics['email'],\n",
    "        statistics['jyv'],\n",
    "        statistics['Badmail'],\n",
    "        statistics['Baja'],\n",
    "        statistics['Fecha envio'],\n",
    "        statistics['Fecha open'],\n",
    "        statistics['Opens'],\n",
    "        statistics['Opens virales'],\n",
    "        statistics['Fecha click'],\n",
    "        statistics['Clicks'],\n",
    "        statistics['Clicks virales'],\n",
    "        statistics['Links'],\n",
    "        statistics['IPs'],\n",
    "        statistics['Navegadores'],\n",
    "        statistics['Plataformas']\n",
    "    ))"
   ]
  },
  {
   "cell_type": "code",
   "execution_count": 20,
   "metadata": {},
   "outputs": [],
   "source": [
    "temp_dir = f\"..{path['temp']}\""
   ]
  },
  {
   "cell_type": "code",
   "execution_count": 27,
   "metadata": {},
   "outputs": [
    {
     "ename": "AttributeError",
     "evalue": "'list' object has no attribute 'get'",
     "output_type": "error",
     "traceback": [
      "\u001b[0;31m---------------------------------------------------------------------------\u001b[0m",
      "\u001b[0;31mValueError\u001b[0m                                Traceback (most recent call last)",
      "\u001b[1;32m/workspaces/anaconda-postgres/notebooks/server.ipynb Cell 8\u001b[0m line \u001b[0;36m1\n\u001b[1;32m     <a href='vscode-notebook-cell://dev-container%2B7b22766f6c756d654e616d65223a22616e61636f6e64612d706f737467726573222c22666f6c646572223a22616e61636f6e64612d706f737467726573227d/workspaces/anaconda-postgres/notebooks/server.ipynb#X13sdnNjb2RlLXJlbW90ZQ%3D%3D?line=16'>17</a>\u001b[0m     \u001b[39melse\u001b[39;00m:\n\u001b[0;32m---> <a href='vscode-notebook-cell://dev-container%2B7b22766f6c756d654e616d65223a22616e61636f6e64612d706f737467726573222c22666f6c646572223a22616e61636f6e64612d706f737467726573227d/workspaces/anaconda-postgres/notebooks/server.ipynb#X13sdnNjb2RlLXJlbW90ZQ%3D%3D?line=17'>18</a>\u001b[0m         \u001b[39mraise\u001b[39;00m \u001b[39mValueError\u001b[39;00m(\u001b[39m'\u001b[39m\u001b[39mInvalid email or date\u001b[39m\u001b[39m'\u001b[39m)\n\u001b[1;32m     <a href='vscode-notebook-cell://dev-container%2B7b22766f6c756d654e616d65223a22616e61636f6e64612d706f737467726573222c22666f6c646572223a22616e61636f6e64612d706f737467726573227d/workspaces/anaconda-postgres/notebooks/server.ipynb#X13sdnNjb2RlLXJlbW90ZQ%3D%3D?line=18'>19</a>\u001b[0m \u001b[39mexcept\u001b[39;00m \u001b[39mException\u001b[39;00m \u001b[39mas\u001b[39;00m e:\n\u001b[1;32m     <a href='vscode-notebook-cell://dev-container%2B7b22766f6c756d654e616d65223a22616e61636f6e64612d706f737467726573222c22666f6c646572223a22616e61636f6e64612d706f737467726573227d/workspaces/anaconda-postgres/notebooks/server.ipynb#X13sdnNjb2RlLXJlbW90ZQ%3D%3D?line=19'>20</a>\u001b[0m     \u001b[39m# Directly pass the list 'row' and the exception details to the logging function\u001b[39;00m\n",
      "\u001b[0;31mValueError\u001b[0m: Invalid email or date",
      "\nDuring handling of the above exception, another exception occurred:\n",
      "\u001b[0;31mAttributeError\u001b[0m                            Traceback (most recent call last)",
      "\u001b[1;32m/workspaces/anaconda-postgres/notebooks/server.ipynb Cell 8\u001b[0m line \u001b[0;36m1\n\u001b[1;32m     <a href='vscode-notebook-cell://dev-container%2B7b22766f6c756d654e616d65223a22616e61636f6e64612d706f737467726573222c22666f6c646572223a22616e61636f6e64612d706f737467726573227d/workspaces/anaconda-postgres/notebooks/server.ipynb#X13sdnNjb2RlLXJlbW90ZQ%3D%3D?line=12'>13</a>\u001b[0m \u001b[39mif\u001b[39;00m filename\u001b[39m.\u001b[39mendswith(\u001b[39m'\u001b[39m\u001b[39m.txt\u001b[39m\u001b[39m'\u001b[39m):\n\u001b[1;32m     <a href='vscode-notebook-cell://dev-container%2B7b22766f6c756d654e616d65223a22616e61636f6e64612d706f737467726573222c22666f6c646572223a22616e61636f6e64612d706f737467726573227d/workspaces/anaconda-postgres/notebooks/server.ipynb#X13sdnNjb2RlLXJlbW90ZQ%3D%3D?line=13'>14</a>\u001b[0m     full_path \u001b[39m=\u001b[39m os\u001b[39m.\u001b[39mpath\u001b[39m.\u001b[39mjoin(temp_dir, filename)\n\u001b[0;32m---> <a href='vscode-notebook-cell://dev-container%2B7b22766f6c756d654e616d65223a22616e61636f6e64612d706f737467726573222c22666f6c646572223a22616e61636f6e64612d706f737467726573227d/workspaces/anaconda-postgres/notebooks/server.ipynb#X13sdnNjb2RlLXJlbW90ZQ%3D%3D?line=14'>15</a>\u001b[0m     process_file(full_path, cnx)\n\u001b[1;32m     <a href='vscode-notebook-cell://dev-container%2B7b22766f6c756d654e616d65223a22616e61636f6e64612d706f737467726573222c22666f6c646572223a22616e61636f6e64612d706f737467726573227d/workspaces/anaconda-postgres/notebooks/server.ipynb#X13sdnNjb2RlLXJlbW90ZQ%3D%3D?line=15'>16</a>\u001b[0m     \u001b[39m# Delete file once processed\u001b[39;00m\n\u001b[1;32m     <a href='vscode-notebook-cell://dev-container%2B7b22766f6c756d654e616d65223a22616e61636f6e64612d706f737467726573222c22666f6c646572223a22616e61636f6e64612d706f737467726573227d/workspaces/anaconda-postgres/notebooks/server.ipynb#X13sdnNjb2RlLXJlbW90ZQ%3D%3D?line=16'>17</a>\u001b[0m     os\u001b[39m.\u001b[39mremove(full_path)\n",
      "\u001b[1;32m/workspaces/anaconda-postgres/notebooks/server.ipynb Cell 8\u001b[0m line \u001b[0;36m8\n\u001b[1;32m      <a href='vscode-notebook-cell://dev-container%2B7b22766f6c756d654e616d65223a22616e61636f6e64612d706f737467726573222c22666f6c646572223a22616e61636f6e64612d706f737467726573227d/workspaces/anaconda-postgres/notebooks/server.ipynb#X13sdnNjb2RlLXJlbW90ZQ%3D%3D?line=5'>6</a>\u001b[0m \u001b[39mwith\u001b[39;00m \u001b[39mopen\u001b[39m(filename, \u001b[39m'\u001b[39m\u001b[39mr\u001b[39m\u001b[39m'\u001b[39m) \u001b[39mas\u001b[39;00m f:\n\u001b[1;32m      <a href='vscode-notebook-cell://dev-container%2B7b22766f6c756d654e616d65223a22616e61636f6e64612d706f737467726573222c22666f6c646572223a22616e61636f6e64612d706f737467726573227d/workspaces/anaconda-postgres/notebooks/server.ipynb#X13sdnNjb2RlLXJlbW90ZQ%3D%3D?line=6'>7</a>\u001b[0m     \u001b[39mfor\u001b[39;00m line \u001b[39min\u001b[39;00m f:\n\u001b[0;32m----> <a href='vscode-notebook-cell://dev-container%2B7b22766f6c756d654e616d65223a22616e61636f6e64612d706f737467726573222c22666f6c646572223a22616e61636f6e64612d706f737467726573227d/workspaces/anaconda-postgres/notebooks/server.ipynb#X13sdnNjb2RlLXJlbW90ZQ%3D%3D?line=7'>8</a>\u001b[0m         process_line(line, cnx)\n",
      "\u001b[1;32m/workspaces/anaconda-postgres/notebooks/server.ipynb Cell 8\u001b[0m line \u001b[0;36m2\n\u001b[1;32m     <a href='vscode-notebook-cell://dev-container%2B7b22766f6c756d654e616d65223a22616e61636f6e64612d706f737467726573222c22666f6c646572223a22616e61636f6e64612d706f737467726573227d/workspaces/anaconda-postgres/notebooks/server.ipynb#X13sdnNjb2RlLXJlbW90ZQ%3D%3D?line=17'>18</a>\u001b[0m         \u001b[39mraise\u001b[39;00m \u001b[39mValueError\u001b[39;00m(\u001b[39m'\u001b[39m\u001b[39mInvalid email or date\u001b[39m\u001b[39m'\u001b[39m)\n\u001b[1;32m     <a href='vscode-notebook-cell://dev-container%2B7b22766f6c756d654e616d65223a22616e61636f6e64612d706f737467726573222c22666f6c646572223a22616e61636f6e64612d706f737467726573227d/workspaces/anaconda-postgres/notebooks/server.ipynb#X13sdnNjb2RlLXJlbW90ZQ%3D%3D?line=18'>19</a>\u001b[0m \u001b[39mexcept\u001b[39;00m \u001b[39mException\u001b[39;00m \u001b[39mas\u001b[39;00m e:\n\u001b[1;32m     <a href='vscode-notebook-cell://dev-container%2B7b22766f6c756d654e616d65223a22616e61636f6e64612d706f737467726573222c22666f6c646572223a22616e61636f6e64612d706f737467726573227d/workspaces/anaconda-postgres/notebooks/server.ipynb#X13sdnNjb2RlLXJlbW90ZQ%3D%3D?line=19'>20</a>\u001b[0m     \u001b[39m# Directly pass the list 'row' and the exception details to the logging function\u001b[39;00m\n\u001b[0;32m---> <a href='vscode-notebook-cell://dev-container%2B7b22766f6c756d654e616d65223a22616e61636f6e64612d706f737467726573222c22666f6c646572223a22616e61636f6e64612d706f737467726573227d/workspaces/anaconda-postgres/notebooks/server.ipynb#X13sdnNjb2RlLXJlbW90ZQ%3D%3D?line=20'>21</a>\u001b[0m     logging\u001b[39m.\u001b[39mcnx_error(row, \u001b[39mstr\u001b[39m(e), \u001b[39mtype\u001b[39m(e)\u001b[39m.\u001b[39m\u001b[39m__name__\u001b[39m, e\u001b[39m.\u001b[39m\u001b[39m__class__\u001b[39m\u001b[39m.\u001b[39m\u001b[39m__name__\u001b[39m, traceback\u001b[39m.\u001b[39mformat_exc(), cnx)\n",
      "File \u001b[0;32m/workspaces/anaconda-postgres/utils/logging.py:12\u001b[0m, in \u001b[0;36mcnx_error\u001b[0;34m(row, error, error_type, error_code, stack_trace, cnx)\u001b[0m\n\u001b[1;32m      6\u001b[0m error_insert \u001b[39m=\u001b[39m \u001b[39m\"\"\"\u001b[39m\n\u001b[1;32m      7\u001b[0m \u001b[39mINSERT INTO errors (filename, row_data, error_message, error_detail, error_type, error_code, stack_trace, error_timestamp)\u001b[39m\n\u001b[1;32m      8\u001b[0m \u001b[39mVALUES (\u001b[39m\u001b[39m%s\u001b[39;00m\u001b[39m, \u001b[39m\u001b[39m%s\u001b[39;00m\u001b[39m, \u001b[39m\u001b[39m%s\u001b[39;00m\u001b[39m, \u001b[39m\u001b[39m%s\u001b[39;00m\u001b[39m, \u001b[39m\u001b[39m%s\u001b[39;00m\u001b[39m, \u001b[39m\u001b[39m%s\u001b[39;00m\u001b[39m, \u001b[39m\u001b[39m%s\u001b[39;00m\u001b[39m, CURRENT_TIMESTAMP)\u001b[39m\n\u001b[1;32m      9\u001b[0m \u001b[39m\u001b[39m\u001b[39m\"\"\"\u001b[39m\n\u001b[1;32m     10\u001b[0m \u001b[39mtry\u001b[39;00m:\n\u001b[1;32m     11\u001b[0m     cursor\u001b[39m.\u001b[39mexecute(error_insert, (\n\u001b[0;32m---> 12\u001b[0m         row\u001b[39m.\u001b[39mget(\u001b[39m'\u001b[39m\u001b[39mfilename\u001b[39m\u001b[39m'\u001b[39m),       \u001b[39m# Assuming 'filename' is part of the row dictionary\u001b[39;00m\n\u001b[1;32m     13\u001b[0m         \u001b[39m'\u001b[39m\u001b[39m,\u001b[39m\u001b[39m'\u001b[39m\u001b[39m.\u001b[39mjoin(\u001b[39mmap\u001b[39m(\u001b[39mstr\u001b[39m, row)),   \u001b[39m# Join the row data into a string\u001b[39;00m\n\u001b[1;32m     14\u001b[0m         \u001b[39mstr\u001b[39m(error),                \u001b[39m# Convert error to string\u001b[39;00m\n\u001b[1;32m     15\u001b[0m         error_detail,              \u001b[39m# Detailed error message\u001b[39;00m\n\u001b[1;32m     16\u001b[0m         error_type,                \u001b[39m# Type of error\u001b[39;00m\n\u001b[1;32m     17\u001b[0m         error_code,                \u001b[39m# Error code\u001b[39;00m\n\u001b[1;32m     18\u001b[0m         stack_trace                \u001b[39m# Stack trace information\u001b[39;00m\n\u001b[1;32m     19\u001b[0m     ))\n\u001b[1;32m     20\u001b[0m     cnx\u001b[39m.\u001b[39mcommit()\n\u001b[1;32m     21\u001b[0m \u001b[39mexcept\u001b[39;00m psycopg2\u001b[39m.\u001b[39mDatabaseError \u001b[39mas\u001b[39;00m e:\n\u001b[1;32m     22\u001b[0m     \u001b[39m# If logging fails, consider logging this to a file or print to the console\u001b[39;00m\n",
      "\u001b[0;31mAttributeError\u001b[0m: 'list' object has no attribute 'get'"
     ]
    }
   ],
   "source": [
    "# Connect to Postgres database\n",
    "cnx = psycopg2.connect(\n",
    "    database=source['database'],\n",
    "    user=source['user'],\n",
    "    password=source['password'],\n",
    "    host=source.get('host', 'localhost'),  # Use 'localhost' as default if not set\n",
    "    port=source.get('port', '5432')  # Use '5432' as default if not set\n",
    ")\n",
    "\n",
    "# Usage\n",
    "temp_dir = f\"..{path['temp']}\"\n",
    "for filename in os.listdir(temp_dir):\n",
    "    if filename.endswith('.txt'):\n",
    "        full_path = os.path.join(temp_dir, filename)\n",
    "        process_file(full_path, cnx)\n",
    "        # Delete file once processed\n",
    "        os.remove(full_path)\n",
    "\n",
    "# Close Postgres connection\n",
    "cnx.close()"
   ]
  }
 ],
 "metadata": {
  "kernelspec": {
   "display_name": "base",
   "language": "python",
   "name": "python3"
  },
  "language_info": {
   "codemirror_mode": {
    "name": "ipython",
    "version": 3
   },
   "file_extension": ".py",
   "mimetype": "text/x-python",
   "name": "python",
   "nbconvert_exporter": "python",
   "pygments_lexer": "ipython3",
   "version": "3.11.5"
  }
 },
 "nbformat": 4,
 "nbformat_minor": 2
}
