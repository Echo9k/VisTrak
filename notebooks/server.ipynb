{
 "cells": [
  {
   "cell_type": "markdown",
   "metadata": {},
   "source": [
    "set up"
   ]
  },
  {
   "cell_type": "code",
   "execution_count": 1,
   "metadata": {},
   "outputs": [],
   "source": [
    "import os\n",
    "import sys\n",
    "import json\n",
    "import psycopg2\n",
    "import configparser"
   ]
  },
  {
   "cell_type": "code",
   "execution_count": 2,
   "metadata": {},
   "outputs": [],
   "source": [
    "is_notebook = True\n",
    "notebook_prefix = \"\"\n",
    "if is_notebook: notebook_prefix = \".\""
   ]
  },
  {
   "cell_type": "code",
   "execution_count": 3,
   "metadata": {},
   "outputs": [],
   "source": [
    "# Load config file\n",
    "config = configparser.ConfigParser()\n",
    "config.read(notebook_prefix + './config/config.conf')\n",
    "\n",
    "# Load configuration file (json format) for source database \n",
    "with open(notebook_prefix + config['path']['config.sv']) as json_file:\n",
    "    source = json.load(json_file)\n",
    "\n",
    "DATA_DIR = config['path']['source']\n",
    "HOST = config['database']['host.sv']\n",
    "PORT = config['database']['port.sv']\n",
    "\n",
    "\n",
    "path = config['path']\n",
    "temp_dir = notebook_prefix + f\".{path['temp']}\"\n",
    "\n",
    "sys.path.append(config['path']['root'])\n",
    "\n",
    "from utils import (insert as insert, parse as parse, process, validate, loggr)"
   ]
  },
  {
   "cell_type": "markdown",
   "metadata": {},
   "source": [
    "## Transform"
   ]
  },
  {
   "cell_type": "code",
   "execution_count": 5,
   "metadata": {},
   "outputs": [],
   "source": [
    "from importlib import reload\n",
    "reload(validate)\n",
    "reload(loggr)\n",
    "reload(parse)\n",
    "reload(process)\n",
    "reload(insert)\n",
    "\n",
    "\n",
    "# Connect to Postgres database\n",
    "cnx = psycopg2.connect(\n",
    "    database=source['database'],\n",
    "    user=source['user'],\n",
    "    password=source['password'],\n",
    "    host=source.get('host', 'localhost'),  # 'localhost' as default\n",
    "    port=source.get('port', '5432')  # '5432' is postgres' default\n",
    ")\n",
    "\n",
    "\n",
    "# Usage\n",
    "temp_dir = notebook_prefix + f\"{path['temp']}\"\n",
    "for filename in os.listdir(temp_dir):\n",
    "    print(filename)\n",
    "    if filename.endswith('.txt'):\n",
    "        full_path = os.path.join(temp_dir, filename)\n",
    "        process.process_file(full_path, cnx)\n",
    "        # os.remove(full_path)\n",
    "\n",
    "\n",
    "# Close Postgres connection\n",
    "cnx.close()"
   ]
  }
 ],
 "metadata": {
  "kernelspec": {
   "display_name": "base",
   "language": "python",
   "name": "python3"
  },
  "language_info": {
   "codemirror_mode": {
    "name": "ipython",
    "version": 3
   },
   "file_extension": ".py",
   "mimetype": "text/x-python",
   "name": "python",
   "nbconvert_exporter": "python",
   "pygments_lexer": "ipython3",
   "version": "3.11.7"
  }
 },
 "nbformat": 4,
 "nbformat_minor": 2
}
